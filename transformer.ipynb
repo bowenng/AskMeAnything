{
 "cells": [
  {
   "cell_type": "code",
   "execution_count": 2,
   "metadata": {},
   "outputs": [],
   "source": [
    "import tensorflow as tf"
   ]
  },
  {
   "cell_type": "markdown",
   "metadata": {},
   "source": [
    "## 1. Positional Encoding\n",
    "$$PE_{(pos, 2i)} = sin(pos/10000^{2i/EmbeddingDimension})$$\n",
    "$$PE_{(pos, 2i+1)} = cos(pos/10000^{2i/EmbeddingDimension})$$"
   ]
  },
  {
   "cell_type": "code",
   "execution_count": 3,
   "metadata": {},
   "outputs": [],
   "source": [
    "def create_position_encoding(sequence_length, d_embedding):\n",
    "    \"\"\"\n",
    "    Args:\n",
    "        sequence_length: the length of input sequence. \n",
    "        d_embedding: the dimension of the embedding space. i.e \n",
    "    Returns:\n",
    "        positional_encoding: shape (1, sequence_length, d_embedding)\n",
    "        Note: the output is unsequeeze at dimension 1 to enable easier broadcasting\n",
    "    \"\"\"\n",
    "    \n",
    "    # position[i] = the i-th index the sequence\n",
    "    positions = tf.range(sequence_length, dtype=tf.float32)[:, tf.newaxis]\n",
    "    # embedding_indices[i] = the i-th index in the embedding \n",
    "    # Note: embedding_indices has length d_embedding/2, because sin and cos share the same input\n",
    "    # e.g [0, 2, 4, 6] for d_embeddingn = 8\n",
    "    embedding_indices = tf.range(d_embedding, delta=2, dtype=tf.float32)[tf.newaxis:]\n",
    "    \n",
    "    # inner = pos/10000^(2i/EmbeddingDimension), i.e the input to sin and cos\n",
    "    inner = positions / 10000**(embedding_indices/tf.cast(d_embedding, tf.float32))\n",
    "    sin_position_encodings = tf.math.sin(inner)\n",
    "    cos_position_encodings = tf.math.cos(inner)\n",
    "    # to create alternating sin and cos encodings, we use a hack: we expand dim at the last axis and concatenate the resulting tensors\n",
    "    sin_position_encodings = tf.expand_dims(sin_position_encodings, axis=-1)\n",
    "    cos_position_encodings = tf.expand_dims(cos_position_encodings, axis=-1)\n",
    "    position_encodings = tf.concat([sin_position_encodings, cos_position_encodings], axis=-1)\n",
    "    position_encodings = tf.reshape(position_encodings, (1, sequence_length, d_embedding))\n",
    "    return position_encodings"
   ]
  },
  {
   "cell_type": "code",
   "execution_count": 4,
   "metadata": {},
   "outputs": [],
   "source": [
    "class PositionalEncoding(tf.keras.layers.Layer):\n",
    "    def __init__(self):\n",
    "        super().__init__()\n",
    "    \n",
    "    def call(self, embeddings):\n",
    "        embedding_shape = tf.shape(embeddings)\n",
    "        sequence_length = embedding_shape[-2]\n",
    "        d_embedding = embedding_shape[-1]\n",
    "        position_encoding = self.create_position_encoding(sequence_length, d_embedding)\n",
    "        embeddings += position_encoding\n",
    "        return embeddings\n",
    "        \n",
    "    def create_position_encoding(self, sequence_length, d_embedding):\n",
    "        \"\"\"\n",
    "        Args:\n",
    "            sequence_length: the length of input sequence. \n",
    "            d_embedding: the dimension of the embedding space. i.e \n",
    "        Returns:\n",
    "            positional_encoding: shape (1, sequence_length, d_embedding)\n",
    "            Note: the output is unsequeeze at dimension 1 to enable easier broadcasting\n",
    "        \"\"\"\n",
    "\n",
    "        # position[i] = the i-th index the sequence\n",
    "        positions = tf.range(sequence_length, dtype=tf.float32)[:, tf.newaxis]\n",
    "        # embedding_indices[i] = the i-th index in the embedding \n",
    "        # Note: embedding_indices has length d_embedding/2, because sin and cos share the same input\n",
    "        # e.g [0, 2, 4, 6] for d_embedding = 8\n",
    "        embedding_indices = tf.range(d_embedding, delta=2, dtype=tf.float32)[tf.newaxis:]\n",
    "\n",
    "        # inner = pos/10000^(2i/EmbeddingDimension), i.e the input to sin and cos\n",
    "        inner = positions / 10000**(embedding_indices/tf.cast(d_embedding, tf.float32))\n",
    "        sin_position_encodings = tf.math.sin(inner)\n",
    "        cos_position_encodings = tf.math.cos(inner)\n",
    "        # to create alternating sin and cos encodings, we use a hack: we expand dim at the last axis and concatenate the resulting tensors\n",
    "        sin_position_encodings = tf.expand_dims(sin_position_encodings, axis=-1)\n",
    "        cos_position_encodings = tf.expand_dims(cos_position_encodings, axis=-1)\n",
    "        position_encodings = tf.concat([sin_position_encodings, cos_position_encodings], axis=-1)\n",
    "        position_encodings = tf.reshape(position_encodings, (1, sequence_length, d_embedding))\n",
    "        return position_encodings"
   ]
  },
  {
   "cell_type": "code",
   "execution_count": 5,
   "metadata": {},
   "outputs": [
    {
     "data": {
      "text/plain": [
       "TensorShape([1, 100, 512])"
      ]
     },
     "execution_count": 5,
     "metadata": {},
     "output_type": "execute_result"
    }
   ],
   "source": [
    "PE = create_position_encoding(sequence_length=100, d_embedding=512)\n",
    "PE.shape"
   ]
  },
  {
   "cell_type": "markdown",
   "metadata": {},
   "source": [
    "## 2. look_ahead Masking & Padding Masking\n",
    "####    look_ahead Masking outputs 1s on positions which the decoder should NOT be looking at.\n",
    "####    Padding Maskings outputs 1s on positions which are padded."
   ]
  },
  {
   "cell_type": "code",
   "execution_count": 6,
   "metadata": {},
   "outputs": [],
   "source": [
    "def create_look_ahead_mask(sequence_length):\n",
    "    \"\"\"\n",
    "    Args:\n",
    "        sequence_length: the length of input sequence\n",
    "    Returns:\n",
    "        look_ahead_mask: shape (sequence_length, sequence_length)\n",
    "        \n",
    "    e.g\n",
    "    sequence_lenght = 3\n",
    "    look_ahead_mask = [\n",
    "        [0, 1, 1], on predicting the 1st word, only the 0th word (the <START/> token) will be used\n",
    "        [0, 0, 1], on predicting the 2nd word, only the 1st word and the 0th word can be used\n",
    "        [0, 0, 0]  and so on\n",
    "    ]\n",
    "    \"\"\"\n",
    "    look_ahead_mask = 1 - tf.linalg.band_part(tf.ones((sequence_length, sequence_length)), -1, 0)\n",
    "    return look_ahead_mask"
   ]
  },
  {
   "cell_type": "code",
   "execution_count": 7,
   "metadata": {},
   "outputs": [
    {
     "data": {
      "text/plain": [
       "<tf.Tensor: id=45, shape=(3, 3), dtype=float32, numpy=\n",
       "array([[0., 1., 1.],\n",
       "       [0., 0., 1.],\n",
       "       [0., 0., 0.]], dtype=float32)>"
      ]
     },
     "execution_count": 7,
     "metadata": {},
     "output_type": "execute_result"
    }
   ],
   "source": [
    "look_ahead_mask = create_look_ahead_mask(3)\n",
    "look_ahead_mask"
   ]
  },
  {
   "cell_type": "code",
   "execution_count": 8,
   "metadata": {},
   "outputs": [],
   "source": [
    "def create_padding_mask(sparse_input_sequence):\n",
    "    \"\"\"\n",
    "    Args:\n",
    "        sparse_input_sequence: shape(batch_size, sequence_length) e.g [0, 1, 3, 0, 5, 13]\n",
    "    Returns:\n",
    "        padding_mask: boolean mask where 1s indicates padding. e.g [1, 0, 0, 1, 0, 0] for the example input\n",
    "    \"\"\"\n",
    "    mask = tf.cast(tf.math.equal(sparse_input_sequence, 0), tf.float32)\n",
    "    return mask"
   ]
  },
  {
   "cell_type": "code",
   "execution_count": 9,
   "metadata": {},
   "outputs": [
    {
     "data": {
      "text/plain": [
       "<tf.Tensor: id=49, shape=(3, 5), dtype=float32, numpy=\n",
       "array([[0., 0., 1., 1., 0.],\n",
       "       [0., 0., 0., 1., 1.],\n",
       "       [1., 1., 1., 0., 0.]], dtype=float32)>"
      ]
     },
     "execution_count": 9,
     "metadata": {},
     "output_type": "execute_result"
    }
   ],
   "source": [
    "x = tf.constant([[7, 6, 0, 0, 1], [1, 2, 3, 0, 0], [0, 0, 0, 4, 5]])\n",
    "create_padding_mask(x)"
   ]
  },
  {
   "cell_type": "markdown",
   "metadata": {},
   "source": [
    "## 3. Attention\n",
    "$$Attention(Q, K, V) = softmax(\\dfrac{QK^T}{\\sqrt{d_v}})V$$"
   ]
  },
  {
   "cell_type": "markdown",
   "metadata": {},
   "source": [
    "## 4. Multi-head Attention"
   ]
  },
  {
   "cell_type": "code",
   "execution_count": 10,
   "metadata": {},
   "outputs": [],
   "source": [
    "class MultiHeadAttention(tf.keras.layers.Layer):\n",
    "    def __init__(self, d_model, n_heads):\n",
    "        \"\"\"\n",
    "        Args: \n",
    "            d_model: the dimension of input/output of each sublayer in the encoder/decoder\n",
    "\n",
    "            n_heads: number of heads to split\n",
    "        Returns:\n",
    "            aggregated_attention: aggregated multihead attention using a final dense layer\n",
    "        \"\"\"\n",
    "        super().__init__()\n",
    "        self.d_model = d_model\n",
    "        self.n_heads = n_heads\n",
    "        \n",
    "        # number of heads must be divisible by model dimension\n",
    "        assert d_model % self.n_heads == 0\n",
    "        \n",
    "        self.depth = d_model // n_heads # depth of q, k, v\n",
    "        \n",
    "\n",
    "        self.wq = tf.keras.layers.Dense(d_model)\n",
    "        self.wk = tf.keras.layers.Dense(d_model)\n",
    "        self.wv = tf.keras.layers.Dense(d_model)\n",
    "        \n",
    "        self.wout = tf.keras.layers.Dense(d_model)\n",
    "        \n",
    "        \n",
    "    def call(self, query_sequence, key_sequence, value_sequence, mask=None):\n",
    "        batch_size = tf.shape(query_sequence)[0]\n",
    "        \n",
    "        q = self.wq(query_sequence)\n",
    "        k = self.wk(key_sequence)\n",
    "        v = self.wv(value_sequence)\n",
    "        \n",
    "        q = self.split_heads(q)\n",
    "        k = self.split_heads(k)\n",
    "        v = self.split_heads(v)\n",
    "        \n",
    "        attention = self.calculate_attention(q, k, v, mask) # (batch_size, n_heads, seq_len_q, depth)\n",
    "        attention = tf.transpose(attention, perm=[0, 2, 1, 3]) # (batch_size, seq_len_q, n_heads, depth)\n",
    "        attention = tf.reshape(attention, (batch_size, -1, self.d_model))\n",
    "        \n",
    "        return self.wout(attention)\n",
    "        \n",
    "    def split_heads(self, x):\n",
    "        \"\"\"Split the last dimension into (n_heads, depth).\n",
    "        Transpose the result such that the shape is (batch_size, n_heads, seq_len, depth)\n",
    "        \"\"\"\n",
    "        batch_size = tf.shape(x)[0]\n",
    "        x = tf.reshape(x, (batch_size, -1, self.n_heads, self.depth)) # (batch_size, seq_len, n_heads, depth)\n",
    "        return tf.transpose(x, perm=[0, 2, 1, 3]) # (batch_size, n_heads, seq_len, depth)\n",
    "    \n",
    "    def calculate_attention(self, q, k, v, mask):\n",
    "        \"\"\"\n",
    "        assume depth = depth_q = depth_k = depth_v\n",
    "        Args:\n",
    "            q: query shape == (..., seq_len_q, depth)\n",
    "            k: key shape == (..., seq_len_k, depth)\n",
    "            v: value shape == (..., seq_len_v, depth)\n",
    "            mask: Float tensor with shape broadcastable \n",
    "              to (..., seq_len_q, seq_len_k).\n",
    "\n",
    "        Returns:\n",
    "            attention: shape (..., seq_len_q, depth_v)\n",
    "        \"\"\"\n",
    "\n",
    "        logit = tf.matmul(q, k, transpose_b=True) # Q matmul K_Tranpose\n",
    "        sqrt_d = tf.math.sqrt(tf.cast(self.depth, tf.float32)) # sqrt(d)\n",
    "        logit = tf.truediv(logit, sqrt_d) # QK_t/sqrt(d_v)\n",
    "        if(mask is not None):\n",
    "            logit += mask*1e-9 # make logits of words that shouldn't be used -inf, so after softmax they will be close to 0\n",
    "        attention_weights = tf.nn.softmax(logit, axis=-1)\n",
    "        attention = tf.matmul(attention_weights, v)\n",
    "        return attention"
   ]
  },
  {
   "cell_type": "code",
   "execution_count": 11,
   "metadata": {},
   "outputs": [],
   "source": [
    "test_k = tf.constant([[10,0,0],\n",
    "                      [0,10,0],\n",
    "                      [0,0,10],\n",
    "                      [0,0,10]], dtype=tf.float32)  # (4, 3)\n",
    "test_v = tf.constant([[10,0,0],\n",
    "                      [0,10,0],\n",
    "                      [0,0,10],\n",
    "                      [0,0,10]], dtype=tf.float32)  # (4, 3)\n",
    "test_q = tf.constant([[10,0,0],\n",
    "                      [0,10,0],\n",
    "                      [0,0,10],\n",
    "                      [0,0,10]], dtype=tf.float32)  # (4, 3)\n"
   ]
  },
  {
   "cell_type": "code",
   "execution_count": null,
   "metadata": {},
   "outputs": [],
   "source": [
    "temp_mha = MultiHeadAttention(d_model=512, n_heads=8)\n",
    "y = tf.random.uniform((5, 16))  # (batch_size, encoder_sequence, d_model)\n",
    "out = temp_mha(y, y, y, mask=None)\n",
    "out.shape, attn.shape"
   ]
  },
  {
   "cell_type": "code",
   "execution_count": 23,
   "metadata": {},
   "outputs": [],
   "source": [
    "class PointWiseFeedForwardDense(tf.keras.layers.Layer):\n",
    "    def __init__(self, d_model , d_ff):\n",
    "        \"\"\"\n",
    "        Args:\n",
    "            d_model: dimension of the encoder/decoder\n",
    "            d_ff: dimension of the intermediate layer\n",
    "        \"\"\"\n",
    "        super().__init__()\n",
    "        self.dense_hidden = tf.keras.layers.Dense(d_ff, activation='relu')\n",
    "        self.dense_out = tf.keras.layers.Dense(d_model)\n",
    "        \n",
    "    def call(self, inputs):\n",
    "        x = self.dense_hidden(inputs)\n",
    "        x = self.dense_out(x)\n",
    "        return x\n",
    "    "
   ]
  },
  {
   "cell_type": "code",
   "execution_count": 24,
   "metadata": {},
   "outputs": [
    {
     "data": {
      "image/png": "[encoded data removed]",
      "text/plain": [
       "<IPython.core.display.Image object>"
      ]
     },
     "execution_count": 24,
     "metadata": {},
     "output_type": "execute_result"
    }
   ],
   "source": [
    "k_in = tf.keras.Input(shape=(4,3), dtype='float32')\n",
    "v_in = tf.keras.Input(shape=(4,3), dtype='float32')\n",
    "q_in = tf.keras.Input(shape=(4,3), dtype='float32')\n",
    "out = MultiHeadAttention(16, 2)(k_in, v_in, q_in)\n",
    "out = PointWiseFeedForwardDense(16, 32)(out)\n",
    "model = tf.keras.Model([k_in, v_in, q_in], out)\n",
    "tf.keras.utils.plot_model(model, show_shapes=True)"
   ]
  },
  {
   "cell_type": "code",
   "execution_count": 27,
   "metadata": {},
   "outputs": [],
   "source": [
    "class EncoderLayer(tf.keras.layers.Layer):\n",
    "    def __init__(self, d_model, n_heads, feed_forward_d_ff, dropout_rate=0.1):\n",
    "        super().__init__()\n",
    "        self.mha = MultiHeadAttention(d_model, n_heads)\n",
    "\n",
    "        self.ffn = PointWiseFeedForwardDense(d_model, feed_forward_d_ff)\n",
    "\n",
    "        \n",
    "        self.layernorm1 = tf.keras.layers.LayerNormalization(epsilon=1e-6)\n",
    "        self.layernorm2 = tf.keras.layers.LayerNormalization(epsilon=1e-6)\n",
    "\n",
    "        self.dropout1 = tf.keras.layers.Dropout(dropout_rate)\n",
    "        self.dropout2 = tf.keras.layers.Dropout(dropout_rate)\n",
    "        \n",
    "    def call(self, x, is_training, padding_mask):\n",
    "        attention = self.mha(x, x, x, padding_mask)\n",
    "        attention = self.dropout1(attention, training=is_training)\n",
    "        output1 = self.layernorm1(attention + x)\n",
    "        \n",
    "        ffoutput = self.ffn(output1)\n",
    "        ffoutput = self.dropout2(ffoutput, training=is_training)\n",
    "        output2 = self.layernorm2(ffoutput + output1)\n",
    "        return output2"
   ]
  },
  {
   "cell_type": "code",
   "execution_count": 61,
   "metadata": {},
   "outputs": [
    {
     "data": {
      "text/plain": [
       "TensorShape([64, 43, 512])"
      ]
     },
     "execution_count": 61,
     "metadata": {},
     "output_type": "execute_result"
    }
   ],
   "source": [
    "sample_encoder_layer = EncoderLayer(512, 8, 2048)\n",
    "\n",
    "sample_encoder_layer_output = sample_encoder_layer(\n",
    "    tf.random.uniform((64, 43, 512)), False, None)\n",
    "\n",
    "sample_encoder_layer_output.shape  # (batch_size, input_seq_len, d_model)"
   ]
  },
  {
   "cell_type": "code",
   "execution_count": 62,
   "metadata": {},
   "outputs": [],
   "source": [
    "class DecoderLayer(tf.keras.layers.Layer):\n",
    "    def __init__(self, d_model, n_heads, feed_forward_d_ff, dropout_rate=0.1):\n",
    "        super().__init__()\n",
    "        self.mha_decoder_decoder = MultiHeadAttention(d_model, n_heads)\n",
    "        self.mha_encoder_decoder = MultiHeadAttention(d_model, n_heads)\n",
    "        self.ffn = PointWiseFeedForwardDense(d_model, feed_forward_d_ff)\n",
    "\n",
    "        \n",
    "        self.layernorm1 = tf.keras.layers.LayerNormalization(epsilon=1e-6)\n",
    "        self.layernorm2 = tf.keras.layers.LayerNormalization(epsilon=1e-6)\n",
    "        self.layernorm3 = tf.keras.layers.LayerNormalization(epsilon=1e-6)\n",
    "        \n",
    "        self.dropout1 = tf.keras.layers.Dropout(dropout_rate)\n",
    "        self.dropout2 = tf.keras.layers.Dropout(dropout_rate)\n",
    "        self.dropout3 = tf.keras.layers.Dropout(dropout_rate)\n",
    "    \n",
    "    def call(self, x, encoder_output, is_training, look_ahead_mask, padding_mask):\n",
    "        self_attention = self.mha_decoder_decoder(x, x, x, look_ahead_mask)\n",
    "        self_attention = self.dropout1(self_attention, training=is_training)\n",
    "        output1 = self.layernorm1(self_attention + x)\n",
    "        \n",
    "        encoder_decoder_attention = self.mha_encoder_decoder(output1, encoder_output, encoder_output, padding_mask)\n",
    "        encoder_decoder_attention = self.dropout2(encoder_decoder_attention, training=is_training)\n",
    "        output2 = self.layernorm2(encoder_decoder_attention + output1)\n",
    "        \n",
    "        ffoutput = self.ffn(output2)\n",
    "        ffoutput = self.dropout3(ffoutput, training=is_training)\n",
    "        output3 = self.layernorm3(ffoutput + output2)\n",
    "        return output3"
   ]
  },
  {
   "cell_type": "code",
   "execution_count": 63,
   "metadata": {},
   "outputs": [
    {
     "data": {
      "text/plain": [
       "TensorShape([64, 50, 512])"
      ]
     },
     "execution_count": 63,
     "metadata": {},
     "output_type": "execute_result"
    }
   ],
   "source": [
    "sample_decoder_layer = DecoderLayer(512, 8, 2048)\n",
    "\n",
    "sample_decoder_layer_output = sample_decoder_layer(\n",
    "    tf.random.uniform((64, 50, 512)), sample_encoder_layer_output, \n",
    "    False, None, None)\n",
    "\n",
    "sample_decoder_layer_output.shape  # (batch_size, target_seq_len, d_model)"
   ]
  },
  {
   "cell_type": "code",
   "execution_count": 64,
   "metadata": {},
   "outputs": [],
   "source": [
    "class Encoder(tf.keras.layers.Layer):\n",
    "    def __init__(self, input_vocab_size, d_model, n_layers, n_heads, d_ff, dropout_rate=0.1):\n",
    "        super().__init__()\n",
    "        self.embedding = tf.keras.layers.Embedding(input_vocab_size, d_model)\n",
    "        self.position_encoding = PositionalEncoding()\n",
    "        self.encoder_layers = [EncoderLayer(d_model, n_heads, d_ff, dropout_rate) for _ in range(n_layers)]\n",
    "        self.dropout = tf.keras.layers.Dropout(dropout_rate)\n",
    "        \n",
    "    def call(self, x, is_training, padding_mask):\n",
    "        \"\"\"\n",
    "        Args: \n",
    "            position_encoded_embeddings: shape (batch size, sequence length, embedding dimension)\n",
    "        \"\"\"\n",
    "        x = self.embedding(x)\n",
    "        x = self.position_encoding(x)\n",
    "        x = self.dropout(x)\n",
    "        for encoder_layer in self.encoder_layers:\n",
    "            x = encoder_layer(x, is_training, padding_mask)\n",
    "        return x # x.shape == (batch_size, input_seq_len, d_model)"
   ]
  },
  {
   "cell_type": "code",
   "execution_count": 65,
   "metadata": {},
   "outputs": [
    {
     "name": "stdout",
     "output_type": "stream",
     "text": [
      "(64, 62, 512)\n"
     ]
    }
   ],
   "source": [
    "sample_encoder = Encoder(n_layers=2, d_model=512, n_heads=8, \n",
    "                         d_ff=2048, input_vocab_size=8500)\n",
    "temp_input = tf.random.uniform((64, 62), dtype=tf.int64, minval=0, maxval=200)\n",
    "\n",
    "sample_encoder_output = sample_encoder(temp_input, is_training=False, padding_mask=None)\n",
    "\n",
    "print (sample_encoder_output.shape)  # (batch_size, input_seq_len, d_model)"
   ]
  },
  {
   "cell_type": "code",
   "execution_count": 66,
   "metadata": {},
   "outputs": [],
   "source": [
    "class Decoder(tf.keras.layers.Layer):\n",
    "    def __init__(self, output_vocab_size, d_model, n_layers, n_heads, d_ff, dropout_rate=0.1):\n",
    "        super().__init__()\n",
    "        self.embedding = tf.keras.layers.Embedding(output_vocab_size, d_model)\n",
    "        self.position_encoding = PositionalEncoding()\n",
    "        self.decoder_layers = [DecoderLayer(d_model, n_heads, d_ff, dropout_rate) for _ in range(n_layers)]\n",
    "        self.dropout = tf.keras.layers.Dropout(dropout_rate)\n",
    "    \n",
    "    def call(self, x, encoder_output, is_training, look_ahead_mask, padding_mask):\n",
    "        x = self.embedding(x)\n",
    "        x = self.position_encoding(x)\n",
    "        x = self.dropout(x)\n",
    "        for decoder_layer in self.decoder_layers:\n",
    "            x = decoder_layer(x, encoder_output, is_training, look_ahead_mask, padding_mask)\n",
    "        return x # x.shape == (batch_size, target_seq_len, d_model)"
   ]
  },
  {
   "cell_type": "code",
   "execution_count": 67,
   "metadata": {},
   "outputs": [
    {
     "data": {
      "text/plain": [
       "TensorShape([64, 26, 512])"
      ]
     },
     "execution_count": 67,
     "metadata": {},
     "output_type": "execute_result"
    }
   ],
   "source": [
    "sample_decoder = Decoder(n_layers=2, d_model=512, n_heads=8, \n",
    "                         d_ff=2048, output_vocab_size=8000)\n",
    "temp_input = tf.random.uniform((64, 26), dtype=tf.int64, minval=0, maxval=200)\n",
    "\n",
    "output = sample_decoder(temp_input, \n",
    "                              encoder_output=sample_encoder_output, \n",
    "                              is_training=False,\n",
    "                              look_ahead_mask=None, \n",
    "                              padding_mask=None)\n",
    "\n",
    "output.shape"
   ]
  },
  {
   "cell_type": "code",
   "execution_count": 74,
   "metadata": {},
   "outputs": [],
   "source": [
    "class Transformer(tf.keras.Model):\n",
    "    def __init__(self, input_vocab_size, output_vocab_size, d_model, n_layers, n_heads, d_ff, dropout_rate=0.1):\n",
    "        super().__init__()\n",
    "        self.encoder = Encoder(input_vocab_size, d_model, n_layers, n_heads, d_ff, dropout_rate)\n",
    "        self.decoder = Decoder(output_vocab_size, d_model, n_layers, n_heads, d_ff, dropout_rate)\n",
    "        self.final_output_dense = tf.keras.layers.Dense(output_vocab_size) # map decoder output from d_model to output_vocab_size\n",
    "    \n",
    "    def call(self, encoder_input_sequence, decoder_input_sequence, is_training=False, encoder_padding_mask=None, \n",
    "           look_ahead_mask=None, decoder_padding_mask=None):\n",
    "        encoder_output = self.encoder(encoder_input_sequence, is_training, encoder_padding_mask)\n",
    "        decoder_output = self.decoder(decoder_input_sequence, encoder_output, is_training, look_ahead_mask, decoder_padding_mask)\n",
    "        output = self.final_output_dense(decoder_output)\n",
    "        return output"
   ]
  },
  {
   "cell_type": "code",
   "execution_count": 75,
   "metadata": {},
   "outputs": [],
   "source": [
    "transformer = Transformer(n_layers=2, d_model=512, n_heads=8, d_ff=2048, \n",
    "    input_vocab_size=8500, output_vocab_size=8000)"
   ]
  },
  {
   "cell_type": "code",
   "execution_count": 76,
   "metadata": {},
   "outputs": [
    {
     "data": {
      "image/png": "[encoded data removed]",
      "text/plain": [
       "<IPython.core.display.Image object>"
      ]
     },
     "execution_count": 76,
     "metadata": {},
     "output_type": "execute_result"
    }
   ],
   "source": [
    "tf.keras.utils.plot_model(transformer, show_shapes=True, expand_nested=True)"
   ]
  },
  {
   "cell_type": "code",
   "execution_count": 77,
   "metadata": {},
   "outputs": [],
   "source": [
    "encoder_input_sequence = tf.keras.layers.Input((32, 50))\n",
    "decoder_input_sequence = tf.keras.layers.Input((32, 25))\n",
    "\n",
    "output = transformer(encoder_input_sequence, decoder_input_sequence)\n",
    "model = tf.keras.Model([encoder_input_sequence, decoder_input_sequence], output)"
   ]
  },
  {
   "cell_type": "code",
   "execution_count": 78,
   "metadata": {},
   "outputs": [
    {
     "name": "stdout",
     "output_type": "stream",
     "text": [
      "Model: \"model_2\"\n",
      "__________________________________________________________________________________________________\n",
      "Layer (type)                    Output Shape         Param #     Connected to                     \n",
      "==================================================================================================\n",
      "input_9 (InputLayer)            [(None, 32, 50)]     0                                            \n",
      "__________________________________________________________________________________________________\n",
      "input_10 (InputLayer)           [(None, 32, 25)]     0                                            \n",
      "__________________________________________________________________________________________________\n",
      "transformer_1 (Transformer)     (None, 32, 25, 8000) 27264832    input_9[0][0]                    \n",
      "==================================================================================================\n",
      "Total params: 27,264,832\n",
      "Trainable params: 27,264,832\n",
      "Non-trainable params: 0\n",
      "__________________________________________________________________________________________________\n"
     ]
    }
   ],
   "source": [
    "model.summary()"
   ]
  },
  {
   "cell_type": "code",
   "execution_count": 80,
   "metadata": {},
   "outputs": [
    {
     "data": {
      "image/png": "[encoded data removed]",
      "text/plain": [
       "<IPython.core.display.Image object>"
      ]
     },
     "execution_count": 80,
     "metadata": {},
     "output_type": "execute_result"
    }
   ],
   "source": [
    "tf.keras.utils.plot_model(model, show_shapes=True, expand_nested=True)"
   ]
  },
  {
   "cell_type": "code",
   "execution_count": null,
   "metadata": {},
   "outputs": [],
   "source": []
  }
 ],
 "metadata": {
  "kernelspec": {
   "display_name": "Python 3",
   "language": "python",
   "name": "python3"
  },
  "language_info": {
   "codemirror_mode": {
    "name": "ipython",
    "version": 3
   },
   "file_extension": ".py",
   "mimetype": "text/x-python",
   "name": "python",
   "nbconvert_exporter": "python",
   "pygments_lexer": "ipython3",
   "version": "3.7.5"
  }
 },
 "nbformat": 4,
 "nbformat_minor": 4
}
